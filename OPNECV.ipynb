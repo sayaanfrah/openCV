{
 "cells": [
  {
   "cell_type": "markdown",
   "id": "524eafe0-1ddf-4dd7-8d9b-ff04dd64660c",
   "metadata": {},
   "source": [
    "# What is Computer Vision"
   ]
  },
  {
   "cell_type": "markdown",
   "id": "9ceebbdd-478f-4459-95ec-602251419253",
   "metadata": {},
   "source": [
    "# Computer Vision is the field of Computer Science that focuses on creating digital systems that can process analyze and make sense of visual data (images or videos) in the same way that humans do."
   ]
  },
  {
   "cell_type": "markdown",
   "id": "06aae2da-8ca9-4876-848f-7e159f191e84",
   "metadata": {},
   "source": [
    "# Computer Vision System Task"
   ]
  },
  {
   "cell_type": "raw",
   "id": "b291cdf3-787a-4573-8b29-e36d21c69d32",
   "metadata": {},
   "source": [
    "OBJECT CLASSIFICATION\n",
    "OBJECT IDENTIFICATION\n",
    "OBJECT TRACKING\n",
    "IMAGE RESTORATION\n",
    "FEATURE MATCHING\n",
    "VIDEO MOTION ANALYSIS"
   ]
  },
  {
   "cell_type": "markdown",
   "id": "02b9abb6-32da-456f-bc73-ed7fae1ce331",
   "metadata": {},
   "source": [
    "# How does computer vision Work ?\n",
    "# "
   ]
  },
  {
   "cell_type": "markdown",
   "id": "eee73d72-98f7-409c-a010-f3879fcdc0c1",
   "metadata": {},
   "source": [
    "# Acquiring an Image (Images even larger sets can be acquired in real time through video , photos or 3d technology for analysis)\n",
    "# Processing the image (Deep learning models automate much of this process but the models are ofter trained by first being fed a thousands of labelled or pre-identified images).\n",
    "\n",
    "# Understanding the image (The final step is the interpretative step , where an object is identified or classified .)\n",
    "# "
   ]
  },
  {
   "cell_type": "code",
   "execution_count": null,
   "id": "7e70e648-c50f-4d84-a701-d660f85ff647",
   "metadata": {},
   "outputs": [],
   "source": []
  }
 ],
 "metadata": {
  "kernelspec": {
   "display_name": "Python 3 (ipykernel)",
   "language": "python",
   "name": "python3"
  },
  "language_info": {
   "codemirror_mode": {
    "name": "ipython",
    "version": 3
   },
   "file_extension": ".py",
   "mimetype": "text/x-python",
   "name": "python",
   "nbconvert_exporter": "python",
   "pygments_lexer": "ipython3",
   "version": "3.12.4"
  }
 },
 "nbformat": 4,
 "nbformat_minor": 5
}
