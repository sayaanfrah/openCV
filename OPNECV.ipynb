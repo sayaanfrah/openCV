{
 "cells": [
  {
   "cell_type": "markdown",
   "id": "524eafe0-1ddf-4dd7-8d9b-ff04dd64660c",
   "metadata": {},
   "source": [
    "# What is Computer Vision"
   ]
  },
  {
   "cell_type": "markdown",
   "id": "9ceebbdd-478f-4459-95ec-602251419253",
   "metadata": {},
   "source": [
    "# Computer Vision is the field of Computer Science that focuses on creating digital systems that can process analyze and make sense of visual data (images or videos) in the same way that humans do."
   ]
  },
  {
   "cell_type": "markdown",
   "id": "06aae2da-8ca9-4876-848f-7e159f191e84",
   "metadata": {},
   "source": [
    "# Computer Vision System Task"
   ]
  },
  {
   "cell_type": "raw",
   "id": "b291cdf3-787a-4573-8b29-e36d21c69d32",
   "metadata": {},
   "source": [
    "OBJECT CLASSIFICATION\n",
    "OBJECT IDENTIFICATION\n",
    "OBJECT TRACKING\n",
    "IMAGE RESTORATION\n",
    "FEATURE MATCHING\n",
    "VIDEO MOTION ANALYSIS"
   ]
  },
  {
   "cell_type": "markdown",
   "id": "02b9abb6-32da-456f-bc73-ed7fae1ce331",
   "metadata": {},
   "source": [
    "# How does computer vision Work ?\n",
    "# "
   ]
  },
  {
   "cell_type": "markdown",
   "id": "eee73d72-98f7-409c-a010-f3879fcdc0c1",
   "metadata": {},
   "source": [
    "# Acquiring an Image (Images even larger sets can be acquired in real time through video , photos or 3d technology for analysis)\n",
    "# Processing the image (Deep learning models automate much of this process but the models are ofter trained by first being fed a thousands of labelled or pre-identified images).\n",
    "\n",
    "# Understanding the image (The final step is the interpretative step , where an object is identified or classified .)\n",
    "# "
   ]
  },
  {
   "cell_type": "markdown",
   "id": "52541924-a3c2-425e-b39e-537a35a6da30",
   "metadata": {},
   "source": [
    "# Real World Computer Vision Application"
   ]
  },
  {
   "cell_type": "markdown",
   "id": "7a083f63-5fe7-44bc-9c6c-1bb2ea978fc4",
   "metadata": {},
   "source": [
    "# Object detection App\n",
    " # In medical field to detect any disease to diffrentiate between a healthy person and an unhealthy person\n",
    "# Self driving cars like tesla , Mahindra XUV700 and Mahindra XE 6E\n"
   ]
  },
  {
   "cell_type": "markdown",
   "id": "558e8623-8d9d-4f49-a230-9fd48e22cb5b",
   "metadata": {},
   "source": [
    "# What is OpenCV?"
   ]
  },
  {
   "cell_type": "markdown",
   "id": "3ff3f183-f765-4d27-86b4-314e45f306c8",
   "metadata": {},
   "source": [
    "# OpenCV is a python open-source library which is used for computer vision in Artificial Intelligence and Machine learning face Recoginition etc.\n",
    "# It includes several hundreds of computer vision Algorithms.\n",
    "# It has C++ , java python and matlab interfaces and support Windows , Linux , Android and MacOS\n",
    "# OpenCV is written natively in C++\n",
    "# Initial release June 2000 : 24 Years ago"
   ]
  },
  {
   "cell_type": "markdown",
   "id": "a47b0b9e-d8ae-4270-9801-8a9115df37a1",
   "metadata": {},
   "source": [
    "# how does openCV Works?\n",
    "# There are two common ways to identify the images\n",
    "#  1 --->> GrayScale\n",
    "# 2 --- >> RGB"
   ]
  },
  {
   "cell_type": "markdown",
   "id": "e4647f2a-fa49-43f7-b8cc-73e85cc4de00",
   "metadata": {},
   "source": [
    "# Why openCv is used for Computer Vision?"
   ]
  },
  {
   "cell_type": "markdown",
   "id": "8868426c-3cce-47c3-b897-e4a60bf14801",
   "metadata": {},
   "source": [
    "# 1 --> OpenCV is available for free of cost \n",
    "# 2 --> Since the openCV library is written in C/C++ so it is quite fast .Now it can be used with python\n",
    "# 3 --> It required less RAM to usage it may be 60-70 MB.\n",
    "# 4 --> Computer Vision is portable as openCV and can run on any device that can run on C"
   ]
  },
  {
   "cell_type": "markdown",
   "id": "4d35f2b9-2983-4e77-aba6-427af8111d22",
   "metadata": {},
   "source": [
    "# Read and show Image "
   ]
  },
  {
   "cell_type": "code",
   "execution_count": 30,
   "id": "71cad4b8-5e73-4216-a056-accc14b3c223",
   "metadata": {},
   "outputs": [],
   "source": [
    "import cv2\n",
    "import pandas as pd\n",
    "import numpy as np\n",
    "import matplotlib.pyplot as plt\n"
   ]
  },
  {
   "cell_type": "code",
   "execution_count": 42,
   "id": "f93fdc28-eef4-45d8-8d9c-f984c0653dca",
   "metadata": {},
   "outputs": [],
   "source": [
    "img=cv2.imread(\"rakul_1.jpg\")  #it is to read the image\n",
    "cv2.imshow(\"sayaan_sol\",img)  # All images to show \n",
    "cv2.waitKey(0)         # image frame keeps wait in milisecond and if you pass 0 any key \n",
    "#cv2.destroyWindow()         #  only one window which you specify will get close\n",
    "cv2.destroyAllWindows()        # All windows get close\n"
   ]
  },
  {
   "cell_type": "code",
   "execution_count": null,
   "id": "bfcb16ee-dd63-478f-80f8-645d4147c062",
   "metadata": {},
   "outputs": [],
   "source": []
  }
 ],
 "metadata": {
  "kernelspec": {
   "display_name": "Python 3 (ipykernel)",
   "language": "python",
   "name": "python3"
  },
  "language_info": {
   "codemirror_mode": {
    "name": "ipython",
    "version": 3
   },
   "file_extension": ".py",
   "mimetype": "text/x-python",
   "name": "python",
   "nbconvert_exporter": "python",
   "pygments_lexer": "ipython3",
   "version": "3.12.4"
  }
 },
 "nbformat": 4,
 "nbformat_minor": 5
}
